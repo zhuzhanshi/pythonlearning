{
 "cells": [
  {
   "cell_type": "markdown",
   "metadata": {},
   "source": [
    "# pandas"
   ]
  },
  {
   "cell_type": "markdown",
   "metadata": {},
   "source": [
    "## 一、数据结构介绍\n",
    "在pandas中有两类非常重要的数据结构，即序列Series和数据框DataFrame。Series类似于numpy中的一维数组，除了通吃一维数组可用的函数或方法，而且其可通过索引标签的方式获取数据，还具有索引的自动对齐功能；DataFrame类似于numpy中的二维数组，同样可以通用numpy数组的函数和方法，而且还具有其他灵活应用"
   ]
  },
  {
   "cell_type": "markdown",
   "metadata": {},
   "source": [
    "## 1、Series的创建\n",
    "### 1）通过一维数组创建序列"
   ]
  },
  {
   "cell_type": "code",
   "execution_count": 1,
   "metadata": {},
   "outputs": [
    {
     "name": "stdout",
     "output_type": "stream",
     "text": [
      "[0 1 2 3 4 5 6 7 8 9]\n",
      "<class 'numpy.ndarray'>\n",
      "--------------------\n",
      "0    0\n",
      "1    1\n",
      "2    2\n",
      "3    3\n",
      "4    4\n",
      "5    5\n",
      "6    6\n",
      "7    7\n",
      "8    8\n",
      "9    9\n",
      "dtype: int64\n",
      "<class 'pandas.core.series.Series'>\n"
     ]
    }
   ],
   "source": [
    "import numpy as np\n",
    "import pandas as pd\n",
    "arr1 = np.arange(10)\n",
    "print(arr1)\n",
    "print(type(arr1))\n",
    "print('--------------------')\n",
    "s1 = pd.Series(arr1)\n",
    "print(s1)\n",
    "print(type(s1))"
   ]
  },
  {
   "cell_type": "markdown",
   "metadata": {},
   "source": [
    "### 2）通过字典的方式创建序列"
   ]
  },
  {
   "cell_type": "code",
   "execution_count": 2,
   "metadata": {},
   "outputs": [
    {
     "name": "stdout",
     "output_type": "stream",
     "text": [
      "{'a': 10, 'b': 20, 'c': 30, 'd': 40, 'e': 50}\n",
      "<class 'dict'>\n",
      "--------------------\n",
      "a    10\n",
      "b    20\n",
      "c    30\n",
      "d    40\n",
      "e    50\n",
      "dtype: int64\n",
      "<class 'pandas.core.series.Series'>\n"
     ]
    }
   ],
   "source": [
    "dic1 = {'a':10, 'b':20, 'c':30, 'd':40, 'e':50}\n",
    "print(dic1)\n",
    "print(type(dic1))\n",
    "print('--------------------')\n",
    "s2 = pd.Series(dic1)\n",
    "print(s2)\n",
    "print(type(s2))"
   ]
  },
  {
   "cell_type": "markdown",
   "metadata": {},
   "source": [
    "### 3）通过DataFrame中的某一行或某一列创建序列"
   ]
  },
  {
   "cell_type": "markdown",
   "metadata": {},
   "source": [
    "## 2、DataFrame的创建"
   ]
  },
  {
   "cell_type": "markdown",
   "metadata": {},
   "source": [
    "### 1）通过二维数组创建数据框"
   ]
  },
  {
   "cell_type": "code",
   "execution_count": 3,
   "metadata": {},
   "outputs": [
    {
     "name": "stdout",
     "output_type": "stream",
     "text": [
      "[[ 0  1  2]\n",
      " [ 3  4  5]\n",
      " [ 6  7  8]\n",
      " [ 9 10 11]]\n",
      "<class 'numpy.ndarray'>\n",
      "------------------\n",
      "   0   1   2\n",
      "0  0   1   2\n",
      "1  3   4   5\n",
      "2  6   7   8\n",
      "3  9  10  11\n",
      "<class 'pandas.core.frame.DataFrame'>\n"
     ]
    }
   ],
   "source": [
    "arr2 = np.array(np.arange(12)).reshape(4, 3)\n",
    "print(arr2)\n",
    "print(type(arr2))\n",
    "print('------------------')\n",
    "df1 = pd.DataFrame(arr2)\n",
    "print(df1)\n",
    "print(type(df1))"
   ]
  },
  {
   "cell_type": "markdown",
   "metadata": {},
   "source": [
    "### 2）通过字典的方式创建数据框"
   ]
  },
  {
   "cell_type": "code",
   "execution_count": 4,
   "metadata": {},
   "outputs": [
    {
     "name": "stdout",
     "output_type": "stream",
     "text": [
      "{'a': [1, 2, 3, 4], 'b': [5, 6, 7, 8], 'c': [9, 10, 11, 12], 'd': [13, 14, 15, 16]}\n",
      "<class 'dict'>\n",
      "-------------------------\n",
      "   a  b   c   d\n",
      "0  1  5   9  13\n",
      "1  2  6  10  14\n",
      "2  3  7  11  15\n",
      "3  4  8  12  16\n",
      "<class 'pandas.core.frame.DataFrame'>\n"
     ]
    }
   ],
   "source": [
    "dic2 = {'a':[1,2,3,4],'b':[5,6,7,8],'c':[9,10,11,12],'d':[13,14,15,16]}\n",
    "print(dic2)\n",
    "print(type(dic2))\n",
    "print('-------------------------')\n",
    "df2 = pd.DataFrame(dic2)\n",
    "print(df2)\n",
    "print(type(df2))"
   ]
  },
  {
   "cell_type": "code",
   "execution_count": 5,
   "metadata": {},
   "outputs": [
    {
     "name": "stdout",
     "output_type": "stream",
     "text": [
      "{'one': {'a': 1, 'b': 2, 'c': 3, 'd': 4}, 'two': {'a': 5, 'b': 6, 'c': 7, 'd': 8}, 'three': {'a': 9, 'b': 10, 'c': 11, 'd': 12}}\n",
      "<class 'dict'>\n",
      "------------------------\n",
      "   one  two  three\n",
      "a    1    5      9\n",
      "b    2    6     10\n",
      "c    3    7     11\n",
      "d    4    8     12\n",
      "<class 'pandas.core.frame.DataFrame'>\n"
     ]
    }
   ],
   "source": [
    "dic3 = {'one':{'a':1,'b':2,'c':3,'d':4},'two':{'a':5,'b':6,'c':7,'d':8},'three':{'a':9,'b':10,'c':11,'d':12}}\n",
    "print(dic3)\n",
    "print(type(dic3))\n",
    "print('------------------------')\n",
    "df3 = pd.DataFrame(dic3)\n",
    "print(df3)\n",
    "print(type(df3))"
   ]
  },
  {
   "cell_type": "markdown",
   "metadata": {},
   "source": [
    "### 3）通过数据框的方式创建数据框"
   ]
  },
  {
   "cell_type": "code",
   "execution_count": 6,
   "metadata": {},
   "outputs": [
    {
     "name": "stdout",
     "output_type": "stream",
     "text": [
      "   one  three\n",
      "a    1      9\n",
      "b    2     10\n",
      "c    3     11\n",
      "d    4     12\n",
      "<class 'pandas.core.frame.DataFrame'>\n",
      "------------------------\n",
      "a    1\n",
      "b    2\n",
      "c    3\n",
      "d    4\n",
      "Name: one, dtype: int64\n",
      "<class 'pandas.core.series.Series'>\n"
     ]
    }
   ],
   "source": [
    "df4 = df3[['one','three']]\n",
    "print(df4)\n",
    "print(type(df4))\n",
    "print('------------------------')\n",
    "s3 = df3['one']\n",
    "print(s3)\n",
    "print(type(s3))"
   ]
  },
  {
   "cell_type": "markdown",
   "metadata": {},
   "source": [
    "## 二、数据索引index\n",
    "序列也好，还是数据框也好，对象的最左边总有一个非原始数据对象，这个是什么呢？\n",
    "序列或数据框的索引有两大用处，一个是通过索引值或索引标签获取目标数据，另一个是通过索引，可以使序列或数据框的计算、操作实现自动化对齐"
   ]
  },
  {
   "cell_type": "markdown",
   "metadata": {},
   "source": [
    "### 1、通过索引值或索引标签获取数据"
   ]
  },
  {
   "cell_type": "code",
   "execution_count": 7,
   "metadata": {},
   "outputs": [
    {
     "name": "stdout",
     "output_type": "stream",
     "text": [
      "0    1\n",
      "1    1\n",
      "2    2\n",
      "3    3\n",
      "4    5\n",
      "5    8\n",
      "dtype: int64 \n",
      "\n",
      "#如果不给序列一个指定的索引值，则序列自动生成一个从0开始的自增索引。可以通过index查看序列的索引：\n",
      "RangeIndex(start=0, stop=6, step=1) \n",
      "\n",
      "我们为序列设定一个自定义的索引值：\n",
      "a    1\n",
      "b    1\n",
      "c    2\n",
      "d    3\n",
      "e    5\n",
      "f    8\n",
      "dtype: int64 \n",
      "\n",
      "序列有了索引，就可以通过索引值或索引标签进行数据的获取： \n",
      "\n",
      "3\n",
      "5\n",
      "b    1\n",
      "d    3\n",
      "f    8\n",
      "dtype: int64\n",
      "a    1\n",
      "b    1\n",
      "d    3\n",
      "f    8\n",
      "dtype: int64\n",
      "a    1\n",
      "b    1\n",
      "c    2\n",
      "d    3\n",
      "dtype: int64\n",
      "c    2\n",
      "d    3\n",
      "e    5\n",
      "f    8\n",
      "dtype: int64\n",
      "b    1\n",
      "c    2\n",
      "d    3\n",
      "e    5\n",
      "dtype: int64\n"
     ]
    }
   ],
   "source": [
    "s4 = pd.Series(np.array([1,1,2,3,5,8]))\n",
    "print(s4,'\\n')\n",
    "#如果不给序列一个指定的索引值，则序列自动生成一个从0开始的自增索引。可以通过index查看序列的索引：\n",
    "print('#如果不给序列一个指定的索引值，则序列自动生成一个从0开始的自增索引。可以通过index查看序列的索引：')\n",
    "print(s4.index, '\\n')\n",
    "#我们为序列设定一个自定义的索引值：\n",
    "print('我们为序列设定一个自定义的索引值：')\n",
    "s4.index = ['a','b','c','d','e','f']\n",
    "print(s4, '\\n')\n",
    "#序列有了索引，就可以通过索引值或索引标签进行数据的获取：\n",
    "print('序列有了索引，就可以通过索引值或索引标签进行数据的获取：', '\\n')\n",
    "print(s4[3])\n",
    "print(s4['e'])\n",
    "print(s4[[1,3,5]])\n",
    "print(s4[['a','b','d','f']])\n",
    "print(s4[:4])\n",
    "print(s4['c':])\n",
    "print(s4['b':'e'])"
   ]
  },
  {
   "cell_type": "markdown",
   "metadata": {},
   "source": [
    "??千万注意：如果通过索引标签获取数据的话，末端标签所对应的值是可以返回的！在一维数组中，就无法通过索引标签获取数据，这也是序列不同于一维数组的一个方面。"
   ]
  },
  {
   "cell_type": "markdown",
   "metadata": {},
   "source": [
    "### 2、自动化对齐\n",
    "如果有两个序列，需要对这两个序列进行算术运算，这时索引的存在就体现的它的价值了—自动化对齐."
   ]
  },
  {
   "cell_type": "code",
   "execution_count": 8,
   "metadata": {},
   "outputs": [
    {
     "name": "stdout",
     "output_type": "stream",
     "text": [
      "a    10\n",
      "b    15\n",
      "c    20\n",
      "d    30\n",
      "e    55\n",
      "f    80\n",
      "dtype: int64\n",
      "a    12\n",
      "c    11\n",
      "g    13\n",
      "b    15\n",
      "d    14\n",
      "f    16\n",
      "dtype: int64\n",
      "a    22.0\n",
      "b    30.0\n",
      "c    31.0\n",
      "d    44.0\n",
      "e     NaN\n",
      "f    96.0\n",
      "g     NaN\n",
      "dtype: float64\n",
      "a    0.833333\n",
      "b    1.000000\n",
      "c    1.818182\n",
      "d    2.142857\n",
      "e         NaN\n",
      "f    5.000000\n",
      "g         NaN\n",
      "dtype: float64\n"
     ]
    }
   ],
   "source": [
    "s5 = pd.Series(np.array([10,15,20,30,55,80]),index = ['a','b','c','d','e','f'])\n",
    "print(s5)\n",
    "s6 = pd.Series(np.array([12,11,13,15,14,16]),index = ['a','c','g','b','d','f'])\n",
    "print(s6)\n",
    "\n",
    "print(s5 + s6)\n",
    "print(s5/s6)"
   ]
  },
  {
   "cell_type": "markdown",
   "metadata": {},
   "source": [
    "由于s5中没有对应的g索引，s6中没有对应的e索引，所以数据的运算会产生两个缺失值NaN。注意，这里的算术结果就实现了两个序列索引的自动对齐，而非简单的将两个序列加总或相除。对于数据框的对齐，不仅仅是行索引的自动对齐，同时也会自动对齐列索引（变量名）\n",
    "\n",
    "数据框中同样有索引，而且数据框是二维数组的推广，所以其不仅有行索引，而且还存在列索引，关于数据框中的索引相比于序列的应用要强大的多，这部分内容将放在数据查询中讲解。"
   ]
  },
  {
   "cell_type": "markdown",
   "metadata": {},
   "source": [
    "## 三、利用pandas查询数据\n",
    "这里的查询数据相当于R语言里的subset功能，可以通过布尔索引有针对的选取原数据的子集、指定行、指定列等。我们先导入一个student数据集：\n",
    "\n",
    "student = pd.io.parsers.read_csv('C:\\\\Users\\\\admin\\\\Desktop\\\\student.csv')\n",
    "查询数据的前5行或末尾5行\n",
    "\n",
    "student.head()\n",
    "student.tail()\n",
    "查询指定的行\n",
    "\n",
    "student.ix[[0,2,4,5,7]] #这里的ix索引标签函数必须是中括号[]\n",
    "查询指定的列\n",
    "\n",
    "student[['Name','Height','Weight']].head() #如果多个列的话，必须使用双重中括号\n",
    "也可以通过ix索引标签查询指定的列\n",
    "\n",
    "student.ix[:,['Name','Height','Weight']].head()\n",
    "查询指定的行和列\n",
    "\n",
    "student.ix[[0,2,4,5,7],['Name','Height','Weight']].head()\n",
    "以上是从行或列的角度查询数据的子集，现在我们来看看如何通过布尔索引实现数据的子集查询。\n",
    "查询所有女生的信息\n",
    "\n",
    "student[student['Sex']=='F']\n",
    "查询出所有12岁以上的女生信息\n",
    "\n",
    "student[(student['Sex']=='F') & (student['Age']>12)]\n",
    "查询出所有12岁以上的女生姓名、身高和体重\n",
    "\n",
    "student[(student['Sex']=='F') & (student['Age']>12)][['Name','Height','Weight']]\n",
    "上面的查询逻辑其实非常的简单，需要注意的是，如果是多个条件的查询，必须在&（且）或者|（或）的两端条件用括号括起来。"
   ]
  },
  {
   "cell_type": "markdown",
   "metadata": {},
   "source": [
    "## 四、利用pandas查询数据\n",
    "pandas模块为我们提供了非常多的描述性统计分析的指标函数，如总和、均值、最小值、最大值等，我们来具体看看这些函数：\n",
    "首先随机生成三组数据"
   ]
  },
  {
   "cell_type": "code",
   "execution_count": 9,
   "metadata": {},
   "outputs": [
    {
     "name": "stdout",
     "output_type": "stream",
     "text": [
      "100\n",
      "-4.1270333212494705\n",
      "7.781921030926066\n",
      "81\n",
      "39\n",
      "0.6870184644069928\n",
      "307.0224566250873\n",
      "3.070224566250874\n",
      "3.204555266776845\n",
      "4.005609378535085\n",
      "2.0014018533355777\n",
      "1.5112880411556109\n",
      "-0.6494780760484293\n",
      "1.2201094052398012\n",
      "count    100.000000\n",
      "mean       3.070225\n",
      "std        2.001402\n",
      "min       -4.127033\n",
      "25%        2.040101\n",
      "50%        3.204555\n",
      "75%        4.434788\n",
      "max        7.781921\n",
      "dtype: float64\n",
      "必须注意的是，descirbe方法只能针对序列或数据框，一维数组是没有这个方法的\n"
     ]
    }
   ],
   "source": [
    "np.random.seed(1234)\n",
    "d1 = pd.Series(2*np.random.normal(size = 100)+3)\n",
    "d2 = np.random.f(2,4,size = 100)\n",
    "d3 = np.random.randint(1,100,size = 100)\n",
    "#print(d1)\n",
    "#print(d2)\n",
    "#print(d3)\n",
    "print(d1.count()) #非空元素计算\n",
    "print(d1.min()) #最小值\n",
    "print(d1.max()) #最大值\n",
    "print(d1.idxmin()) #最小值的位置，类似于R中的which.min函数\n",
    "print(d1.idxmax()) #最大值的位置，类似于R中的which.max函数\n",
    "print(d1.quantile(0.1)) #10%分位数\n",
    "print(d1.sum()) #求和\n",
    "print(d1.mean()) #均值\n",
    "print(d1.median()) #中位数\n",
    "#print(d1.mode()) #众数\n",
    "print(d1.var()) #方差\n",
    "print(d1.std()) #标准差\n",
    "print(d1.mad()) #平均绝对偏差\n",
    "print(d1.skew()) #偏度\n",
    "print(d1.kurt()) #峰度\n",
    "print(d1.describe()) #一次性输出多个描述性统计指标\n",
    "print('必须注意的是，descirbe方法只能针对序列或数据框，一维数组是没有这个方法的')"
   ]
  },
  {
   "cell_type": "code",
   "execution_count": 10,
   "metadata": {},
   "outputs": [
    {
     "name": "stdout",
     "output_type": "stream",
     "text": [
      "这里自定义一个函数，将这些统计描述指标全部汇总到一起:\n",
      "Count        100.000000\n",
      "Min           -4.127033\n",
      "Whicn_Min     81.000000\n",
      "Q1             2.040101\n",
      "Median         3.204555\n",
      "Q3             4.434788\n",
      "Mean           3.070225\n",
      "Max            7.781921\n",
      "Which_Max     39.000000\n",
      "Mad            1.511288\n",
      "Var            4.005609\n",
      "Std            2.001402\n",
      "Skew          -0.649478\n",
      "Kurt           1.220109\n",
      "dtype: float64\n"
     ]
    }
   ],
   "source": [
    "print('这里自定义一个函数，将这些统计描述指标全部汇总到一起:')\n",
    "\n",
    "def stats(x):\n",
    "    return pd.Series([x.count(),x.min(),x.idxmin(),\n",
    "    x.quantile(.25),x.median(),\n",
    "    x.quantile(.75),x.mean(),\n",
    "    x.max(),x.idxmax(),\n",
    "    x.mad(),x.var(),\n",
    "    x.std(),x.skew(),x.kurt()],\n",
    "    index = ['Count','Min','Whicn_Min',\n",
    "    'Q1','Median','Q3','Mean',\n",
    "    'Max','Which_Max','Mad',\n",
    "    'Var','Std','Skew','Kurt'])\n",
    "print(stats(d1))\n"
   ]
  },
  {
   "cell_type": "code",
   "execution_count": 11,
   "metadata": {},
   "outputs": [
    {
     "name": "stdout",
     "output_type": "stream",
     "text": [
      "在实际的工作中，我们可能需要处理的是一系列的数值型数据框，\n",
      "如何将这个函数应用到数据框中的每一列呢？可以使用apply函数，这个非常类似于R中的apply的应用方法。\n",
      "将之前创建的d1,d2,d3数据构建数据框:\n",
      "         x1        x2    x3\n",
      "0  3.942870  1.369531  55.0\n",
      "1  0.618049  0.943264  68.0\n",
      "2  5.865414  0.590663  73.0\n",
      "3  2.374696  0.206548  59.0\n",
      "4  1.558823  0.223204  60.0\n",
      "                   x1          x2          x3\n",
      "Count      100.000000  100.000000  100.000000\n",
      "Min         -4.127033    0.014330    3.000000\n",
      "Whicn_Min   81.000000   72.000000   76.000000\n",
      "Q1           2.040101    0.249580   25.000000\n",
      "Median       3.204555    1.000613   54.500000\n",
      "Q3           4.434788    2.101581   73.000000\n",
      "Mean         3.070225    2.028608   51.490000\n",
      "Max          7.781921   18.791565   98.000000\n",
      "Which_Max   39.000000   53.000000   96.000000\n",
      "Mad          1.511288    1.922669   24.010800\n",
      "Var          4.005609   10.206447  780.090808\n",
      "Std          2.001402    3.194753   27.930106\n",
      "Skew        -0.649478    3.326246   -0.118917\n",
      "Kurt         1.220109   12.636286   -1.211579\n",
      "非常完美，就这样很简单的创建了数值型数据的统计性描述。如果是离散型数据呢？\n",
      "就不能用这个统计口径了，我们需要统计离散变量的观测数、唯一值个数、众数水平及个数。你只需要使用describe方法就可以实现这样的统计了。\n"
     ]
    }
   ],
   "source": [
    "print('在实际的工作中，我们可能需要处理的是一系列的数值型数据框，' + '\\n'\n",
    "      '如何将这个函数应用到数据框中的每一列呢？可以使用apply函数，这个非常类似于R中的apply的应用方法。')\n",
    "print('将之前创建的d1,d2,d3数据构建数据框:')\n",
    "\n",
    "df = pd.DataFrame(np.array([d1,d2,d3]).T,columns=['x1','x2','x3'])\n",
    "print(df.head())\n",
    "print(df.apply(stats))\n",
    "print('非常完美，就这样很简单的创建了数值型数据的统计性描述。如果是离散型数据呢？' + '\\n'\n",
    "      '就不能用这个统计口径了，我们需要统计离散变量的观测数、唯一值个数、众数水平及个数。你只需要使用describe方法就可以实现这样的统计了。')"
   ]
  },
  {
   "cell_type": "markdown",
   "metadata": {},
   "source": [
    "student['Sex'].describe()"
   ]
  },
  {
   "cell_type": "code",
   "execution_count": 12,
   "metadata": {},
   "outputs": [
    {
     "name": "stdout",
     "output_type": "stream",
     "text": [
      "除以上的简单描述性统计之外，还提供了连续变量的相关系数（corr）和协方差矩阵（cov）的求解，这个跟R语言是一致的用法\n",
      "          x1        x2        x3\n",
      "x1  1.000000  0.136085  0.037185\n",
      "x2  0.136085  1.000000 -0.005688\n",
      "x3  0.037185 -0.005688  1.000000 \n",
      "\n",
      "关于相关系数的计算可以调用pearson方法或kendell方法或spearman方法，默认使用pearson方法。\n",
      "         x1        x2        x3\n",
      "x1  1.00000  0.178950  0.006590\n",
      "x2  0.17895  1.000000 -0.033874\n",
      "x3  0.00659 -0.033874  1.000000 \n",
      "\n",
      "如果只想关注某一个变量与其余变量的相关系数的话，可以使用corrwith,如下方只关心x1与其余变量的相关系数:\n",
      "x1    1.000000\n",
      "x2    0.136085\n",
      "x3    0.037185\n",
      "dtype: float64 \n",
      "\n",
      "数值型变量间的协方差矩阵\n",
      "          x1         x2          x3\n",
      "x1  4.005609   0.870124    2.078596\n",
      "x2  0.870124  10.206447   -0.507512\n",
      "x3  2.078596  -0.507512  780.090808 \n",
      "\n"
     ]
    }
   ],
   "source": [
    "print('除以上的简单描述性统计之外，还提供了连续变量的相关系数（corr）和协方差矩阵（cov）的求解，这个跟R语言是一致的用法')\n",
    "print(df.corr(), '\\n')\n",
    "\n",
    "print('关于相关系数的计算可以调用pearson方法或kendell方法或spearman方法，默认使用pearson方法。')\n",
    "print(df.corr('spearman'), '\\n')\n",
    "\n",
    "print('如果只想关注某一个变量与其余变量的相关系数的话，可以使用corrwith,如下方只关心x1与其余变量的相关系数:')\n",
    "print(df.corrwith(df['x1']), '\\n')\n",
    "      \n",
    "print('数值型变量间的协方差矩阵')\n",
    "print(df.cov(), '\\n')"
   ]
  },
  {
   "cell_type": "markdown",
   "metadata": {},
   "source": [
    "# ***我是做图像的，后边用的时候再看***\n",
    "\n",
    "https://www.jianshu.com/p/191d1e21f7ed"
   ]
  },
  {
   "cell_type": "markdown",
   "metadata": {},
   "source": [
    "## 五、类似于SQL的操作\n",
    "## 六、缺失值处理\n",
    "## 七、数据透视表\n",
    "## 八、多层索引的使用"
   ]
  }
 ],
 "metadata": {
  "kernelspec": {
   "display_name": "Python 3",
   "language": "python",
   "name": "python3"
  },
  "language_info": {
   "codemirror_mode": {
    "name": "ipython",
    "version": 3
   },
   "file_extension": ".py",
   "mimetype": "text/x-python",
   "name": "python",
   "nbconvert_exporter": "python",
   "pygments_lexer": "ipython3",
   "version": "3.6.6"
  }
 },
 "nbformat": 4,
 "nbformat_minor": 2
}
