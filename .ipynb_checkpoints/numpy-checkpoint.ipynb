{
 "cells": [
  {
   "cell_type": "markdown",
   "metadata": {},
   "source": [
    "# numpy\n",
    "https://www.cnblogs.com/nxld/p/6058572.html  \n",
    "\n",
    "Python模块中的numpy，这是一个处理数组的强大模块，而该模块也是其他数据分析模块（如pandas和scipy）的核心。\n",
    "\n",
    "接下面将从这5个方面来介绍numpy模块的内容：\n",
    "\n",
    "1）数组的创建\n",
    "\n",
    "2）有关数组的属性和函数\n",
    "\n",
    "3）数组元素的获取--普通索引、切片、布尔索引和花式索引\n",
    "\n",
    "4）统计函数与线性代数运算\n",
    "\n",
    "5）随机数的生成\n",
    "\n"
   ]
  },
  {
   "cell_type": "markdown",
   "metadata": {},
   "source": [
    "##  1）数组的创建\n",
    "numpy中使用array()函数创建数组,array的首个参数一定是一个序列，可以是元组也可以是列表。"
   ]
  },
  {
   "cell_type": "markdown",
   "metadata": {},
   "source": [
    "### 一维数组的创建\n",
    "可以使用numpy中的arange()函数创建一维有序数组，它是内置函数range的扩展版\n"
   ]
  },
  {
   "cell_type": "code",
   "execution_count": null,
   "metadata": {},
   "outputs": [],
   "source": [
    "import numpy as np\n",
    "ls1 = range(10)\n",
    "print(list(ls1))\n",
    "print(type(ls1))\n"
   ]
  },
  {
   "cell_type": "code",
   "execution_count": null,
   "metadata": {},
   "outputs": [],
   "source": [
    "ls2 = np.arange(10)\n",
    "print(list(ls2))\n",
    "print(type(ls2))"
   ]
  },
  {
   "cell_type": "markdown",
   "metadata": {},
   "source": [
    "通过arange生成的序列就不是简简单单的列表类型了，而是一个一维数组。"
   ]
  },
  {
   "cell_type": "markdown",
   "metadata": {},
   "source": [
    "如果一维数组不是一个规律的有序元素，而是人为的输入，就需要array()函数创建了。"
   ]
  },
  {
   "cell_type": "code",
   "execution_count": null,
   "metadata": {},
   "outputs": [],
   "source": [
    "arr1 = np.array((1, 20, 5, 77))\n",
    "print(arr1)\n",
    "print(type(arr1))\n",
    "#上面是由元组序列构成的一维数组。"
   ]
  },
  {
   "cell_type": "code",
   "execution_count": null,
   "metadata": {},
   "outputs": [],
   "source": [
    "arr2 = np.array([1,1,2,3,5,8,13,21])    \n",
    "print(arr2)\n",
    "print(type(arr2))\n",
    "#上面是由列表序列构成的一维数组。"
   ]
  },
  {
   "cell_type": "markdown",
   "metadata": {},
   "source": [
    "### 二维数组的创建\n",
    "二维数组的创建，其实在就是列表套列表或元组套元组。"
   ]
  },
  {
   "cell_type": "code",
   "execution_count": null,
   "metadata": {},
   "outputs": [],
   "source": [
    "arr3 = np.array(((1,1,2,3),(5,8,13,21),(34,55,89,144)))\n",
    "print(arr3)\n",
    "#上面使用元组套元组的方式。"
   ]
  },
  {
   "cell_type": "code",
   "execution_count": null,
   "metadata": {},
   "outputs": [],
   "source": [
    "arr4 = np.array([[1,2,3,4],[5,6,7,8],[9,10,11,12]])\n",
    "print(arr4)\n",
    "#上面使用列表套列表的方式。\n",
    "#对于高维数组在将来的数据分析中用的比较少，这里关于高维数组的创建就不赘述了，构建方法仍然是套的方式。"
   ]
  },
  {
   "cell_type": "markdown",
   "metadata": {},
   "source": [
    "### 特殊数组"
   ]
  },
  {
   "cell_type": "code",
   "execution_count": null,
   "metadata": {},
   "outputs": [],
   "source": [
    "np.ones(3)  #返回一维元素全为1的数组"
   ]
  },
  {
   "cell_type": "code",
   "execution_count": null,
   "metadata": {},
   "outputs": [],
   "source": [
    "np.ones([3,4])  #返回元素全为1的3×4二维数组"
   ]
  },
  {
   "cell_type": "code",
   "execution_count": null,
   "metadata": {},
   "outputs": [],
   "source": [
    "np.zeros(3) #返回一维元素全为0的数组"
   ]
  },
  {
   "cell_type": "code",
   "execution_count": null,
   "metadata": {},
   "outputs": [],
   "source": [
    "np.zeros([3,4]) #返回元素全为0的3×4二维数组"
   ]
  },
  {
   "cell_type": "code",
   "execution_count": null,
   "metadata": {},
   "outputs": [],
   "source": [
    "np.empty(3) #返回一维空数组"
   ]
  },
  {
   "cell_type": "code",
   "execution_count": null,
   "metadata": {},
   "outputs": [],
   "source": [
    "np.empty([3,4]) #返回3×4二维空数组"
   ]
  },
  {
   "cell_type": "markdown",
   "metadata": {},
   "source": [
    "## 2）有关数组的属性和函数\n",
    "当一个数组构建好后，我们看看关于数组本身的操作又有哪些属性和函数："
   ]
  },
  {
   "cell_type": "code",
   "execution_count": null,
   "metadata": {},
   "outputs": [],
   "source": [
    "arr3"
   ]
  },
  {
   "cell_type": "code",
   "execution_count": null,
   "metadata": {},
   "outputs": [],
   "source": [
    "arr3.shape  #shape方法返回数组的行数和列数"
   ]
  },
  {
   "cell_type": "code",
   "execution_count": null,
   "metadata": {},
   "outputs": [],
   "source": [
    "arr3.dtype  #dtype方法返回数组的数据类型"
   ]
  },
  {
   "cell_type": "code",
   "execution_count": null,
   "metadata": {},
   "outputs": [],
   "source": [
    "a = arr3.ravel()    #通过ravel的方法将数组拉直（多维数组降为一维数组）\n",
    "b = arr3.flatten()  #通过flatten的方法将数组拉直\n",
    "#两者的区别在于ravel方法生成的是原数组的视图，无需占有内存空间，但视图的改变会影响到原数组的变化。\n",
    "#而flatten方法返回的是真实值，其值的改变并不会影响原数组的更改。"
   ]
  },
  {
   "cell_type": "code",
   "execution_count": null,
   "metadata": {},
   "outputs": [],
   "source": [
    "b[:3] = 0\n",
    "arr3"
   ]
  },
  {
   "cell_type": "code",
   "execution_count": null,
   "metadata": {},
   "outputs": [],
   "source": [
    "a[:3] = 0\n",
    "arr3"
   ]
  },
  {
   "cell_type": "code",
   "execution_count": null,
   "metadata": {},
   "outputs": [],
   "source": [
    "arr4"
   ]
  },
  {
   "cell_type": "code",
   "execution_count": null,
   "metadata": {},
   "outputs": [],
   "source": [
    "print(arr4.ndim)   #返回数组的维数\n",
    "print(arr4.size)   #返回数组元素的个数\n",
    "print(arr4.T)  #返回数组的转置结果\n",
    "#如果数组的数据类型为复数的话，real方法可以返回复数的实部，imag方法返回复数的虚部。"
   ]
  },
  {
   "cell_type": "code",
   "execution_count": null,
   "metadata": {},
   "outputs": [],
   "source": [
    "len(arr4) #返回数组有多少行"
   ]
  },
  {
   "cell_type": "code",
   "execution_count": null,
   "metadata": {},
   "outputs": [],
   "source": [
    "print(arr3)\n",
    "print(arr4)\n",
    "print(np.hstack((arr3, arr4)))\n",
    "#横向拼接arr3和arr4两个数组，但必须满足两个数组的行数相同。\n",
    "#np.column_stack((arr3,arr4))    #与hstack函数具有一样的效果\n",
    "print(np.vstack((arr3,arr4)))  \n",
    "#纵向拼接arr3和arr4两个数组，但必须满足两个数组的列数相同。\n",
    "#np.row_stack((arr3,arr4))    #与vstack函数具有一样的效果"
   ]
  },
  {
   "cell_type": "code",
   "execution_count": null,
   "metadata": {},
   "outputs": [],
   "source": [
    "arr5 = np.array(np.arange(24))\n",
    "arr5    #此为一维数组"
   ]
  },
  {
   "cell_type": "code",
   "execution_count": null,
   "metadata": {},
   "outputs": [],
   "source": [
    "a = arr5.reshape(4,6)  \n",
    "print(arr5)\n",
    "print(a) #通过reshape函数将一维数组设置为二维数组，且为4行6列的数组。"
   ]
  },
  {
   "cell_type": "code",
   "execution_count": null,
   "metadata": {},
   "outputs": [],
   "source": [
    "a.resize(6,4)  \n",
    "print(a) #通过resize函数会直接改变原数组的形状。"
   ]
  },
  {
   "cell_type": "code",
   "execution_count": null,
   "metadata": {},
   "outputs": [],
   "source": [
    "#数组转换：tolist将数组转换为列表，astype()强制转换数组的数据类型，\n",
    "b = a.tolist()\n",
    "print(b)\n",
    "type(b)"
   ]
  },
  {
   "cell_type": "code",
   "execution_count": null,
   "metadata": {},
   "outputs": [],
   "source": [
    "c = a.astype(float)\n",
    "print(c)\n",
    "print(type(c))\n",
    "print(a.dtype)\n",
    "print(c.dtype)"
   ]
  },
  {
   "cell_type": "markdown",
   "metadata": {},
   "source": [
    "## 3）数组元素的获取--普通索引、切片、布尔索引和花式索引\n",
    "\n"
   ]
  },
  {
   "cell_type": "code",
   "execution_count": null,
   "metadata": {},
   "outputs": [],
   "source": [
    "#通过索引和切片的方式获取数组元素，一维数组元素的获取与列表、元组的获取方式一样\n",
    "arr7 = np.array(np.arange(10))\n",
    "print(arr7)\n",
    "print(arr7[3]) #获取第4个元素\n",
    "print(arr7[:3]) #获取前3个元素)\n",
    "print(arr7[3:])    #获取第4个元素即之后的所有元素\n",
    "print(arr7[-2:])  #获取末尾的2个元素\n",
    "print(arr7[::2])   #从第1个元素开始，获取步长为2的所有元素)"
   ]
  },
  {
   "cell_type": "code",
   "execution_count": null,
   "metadata": {},
   "outputs": [],
   "source": [
    "#二维数组元素的获取：\n",
    "arr8 = np.array(np.arange(12)).reshape(3,4)\n",
    "print(arr8)\n",
    "print(arr8[1])#返回数组的第2行\n",
    "print(arr8[:2])    #返回数组的前2行\n",
    "print(arr8[[0,2]])     #返回指定的第1行和第3行)\n",
    "print(arr8[:,0])  #返回数组的第1列\n",
    "print(arr8[:,-2:])    #返回数组的后2列)\n",
    "print(arr8[:,[0,2]])   #返回数组的第1列和第3列)\n",
    "print(arr8[1,2])   #返回数组中第2行第3列对应的元素)"
   ]
  },
  {
   "cell_type": "code",
   "execution_count": null,
   "metadata": {},
   "outputs": [],
   "source": [
    "#布尔索引，即索引值为True和False，需要注意的是布尔索引必须输数组对象。\n",
    "log = np.array([True,False,False,True,True,False])\n",
    "arr9 = np.array(np.arange(24)).reshape(6,4)\n",
    "print(arr9)\n",
    "print(arr9[log])   #返回所有为True的对应行)\n",
    "print(arr9[~log])  #通过负~筛选出所有为False的对应行)"
   ]
  },
  {
   "cell_type": "code",
   "execution_count": null,
   "metadata": {},
   "outputs": [],
   "source": [
    "#举一个场景，一维数组表示区域，二维数组表示观测值，如何选取目标区域的观测？\n",
    "area = np.array(['A','B','A','C','A','B','D'])\n",
    "observes = np.array(np.arange(21)).reshape(7,3)\n",
    "observes[area == 'A'] #返回所有A区域的观测。\n",
    "observes[(area == 'A') | (area == 'D')] #条件值需要在&(and),|(or)两端用圆括号括起来,返回所有A区域和D区域的观测。\n",
    "observes[area == 'A'][:,[0,2]]  #返回A区域的所有行，且只获取第1列与第3列数据。"
   ]
  },
  {
   "cell_type": "code",
   "execution_count": null,
   "metadata": {},
   "outputs": [],
   "source": [
    "#花式索引：实际上就是将数组作为索引将原数组的元素提取出来\n",
    "arr10 = np.arange(1,29).reshape(7,4)\n",
    "print(arr10[[4,1,3,5]])  #按照指定顺序返回指定行\n",
    "print(arr10[[4,1,5]][:,[0,2,3]]) #返回指定的行与列\n",
    "print(arr10[[4,1,5],[0,2,3]])#请注意！这与上面的返回结果是截然不同的，上面返回的是二维数组，而这条命令返回的是一维数组。\n",
    "#如果想使用比较简单的方式返回指定行以列的二维数组的话，可以使用ix_()函数\n",
    "print(arr10[np.ix_([4,1,5],[0,2,3])]) #这与arr10[[4,1,5]][:,[0,2,3]]返回的结果是一致的。\n"
   ]
  },
  {
   "cell_type": "markdown",
   "metadata": {},
   "source": [
    "## 4）统计函数与线性代数运算\n"
   ]
  },
  {
   "cell_type": "code",
   "execution_count": null,
   "metadata": {},
   "outputs": [],
   "source": [
    "#统计运算中常见的聚合函数有：最小值、最大值、中位数、均值、方差、标准差等。首先来看看数组元素级别的计算：\n",
    "arr11 = 5-np.arange(1,13).reshape(4,3)\n",
    "arr12 = np.random.randint(1,10,size = 12).reshape(4,3)\n",
    "print(arr11)\n",
    "print(arr12)"
   ]
  },
  {
   "cell_type": "code",
   "execution_count": null,
   "metadata": {},
   "outputs": [],
   "source": [
    "print(arr11 ** 2)    #计算每个元素的平方)\n",
    "print(np.sqrt(arr11))  #计算每个元素的平方根)\n",
    "print(np.exp(arr11))   #计算每个元素的指数值)\n",
    "print(np.log(arr12))   #计算每个元素的自然对数值)\n",
    "print(np.abs(arr11))   #计算每个元素的绝对值)\n",
    "#相同形状数组间元素的操作：\n",
    "print(arr11 + arr12)   #加)\n",
    "print(arr11 - arr12)   #减)\n",
    "print(arr11 * arr12)   #乘)\n",
    "print(arr11 / arr12)   #除)\n",
    "print(arr11 // arr12)  #整除)\n",
    "print(arr11 % arr12)   #取余)"
   ]
  },
  {
   "cell_type": "code",
   "execution_count": null,
   "metadata": {},
   "outputs": [],
   "source": [
    "#统计运算函数：\n",
    "print(np.sum(arr11)) #计算所有元素的和\n",
    "print(np.sum(arr11,axis = 0))    #对每一列求和)\n",
    "print(np.sum(arr11, axis = 1))   #对每一行求和\n",
    "print(np.cumsum(arr11)) #对每一个元素求累积和（从上到下，从左到右的元素顺序）)\n",
    "print(np.cumsum(arr11, axis = 0))#计算每一列的累积和，并返回二维数组)\n",
    "print(np.cumprod(arr11, axis = 1)) #计算每一行的累计积，并返回二维数组)\n",
    "print(np.min(arr11))   #计算所有元素的最小值)\n",
    "print( np.max(arr11, axis = 0)) #计算每一列的最大值)\n",
    "print(np.mean(arr11))  #计算所有元素的均值)\n",
    "print(np.mean(arr11, axis = 1)) #计算每一行的均值)\n",
    "print(np.median(arr11))   #计算所有元素的中位数)\n",
    "print(np.median(arr11, axis = 0))   #计算每一列的中位数)\n",
    "print(np.var(arr12))   #计算所有元素的方差)\n",
    "print(np.std(arr12, axis = 1))   #计算每一行的标准差)\n",
    "#numpy中的统计函数运算是非常灵活的，既可以计算所有元素的统计值，也可以计算指定行或列的统计指标。还有其他常用的函数，如符号函数sign，ceil(>=x的最小整数)，floor(<=x的最大整数)，modf(将浮点数的整数部分与小数部分分别存入两个独立的数组)，cos，arccos，sin，arcsin，tan，arctan等。"
   ]
  },
  {
   "cell_type": "code",
   "execution_count": null,
   "metadata": {},
   "outputs": [],
   "source": [
    "np.where(arr11 < 0, 'negtive','positive')\n",
    "#np.where还可以嵌套使用，完成复杂的运算。"
   ]
  },
  {
   "cell_type": "markdown",
   "metadata": {},
   "source": [
    "unique(x):计算x的唯一元素，并返回有序结果\n",
    "\n",
    "intersect(x,y)：计算x和y的公共元素，即交集\n",
    "\n",
    "union1d(x,y):计算x和y的并集\n",
    "\n",
    "setdiff1d(x,y):计算x和y的差集，即元素在x中，不在y中\n",
    "\n",
    "setxor1d(x,y):计算集合的对称差，即存在于一个数组中，但不同时存在于两个数组中\n",
    "\n",
    "in1d(x,y):判断x的元素是否包含于y中"
   ]
  },
  {
   "cell_type": "code",
   "execution_count": null,
   "metadata": {},
   "outputs": [],
   "source": [
    "#线性代数运算 同样numpu也跟R语言一样，可以非常方便的进行线性代数方面的计算，如行列式、逆、迹、特征根、特征向量等。但需要注意的是，有关线性代数的函数并不在numpy中，而是numpy的子例linalg中。\n",
    "arr13 = np.array([[1,2,3,5],[2,4,1,6],[1,1,4,3],[2,5,4,1]])\n",
    "print(np.linalg.det(arr13))    #返回方阵的行列式)\n",
    "print(np.linalg.inv(arr13))    #返回方阵的逆)\n",
    "print(np.trace(arr13)) #返回方阵的迹（对角线元素之和），注意迹的求解不在linalg子例程中)\n",
    "print(np.linalg.eig(arr13))    #返回由特征根和特征向量组成的元组)\n",
    "print(np.linalg.qr(arr13)) #返回方阵的QR分解)\n",
    "print(np.linalg.svd(arr13))    #返回方阵的奇异值分解)\n",
    "print(np.dot(arr13,arr13))     #方阵的正真乘积运算)"
   ]
  },
  {
   "cell_type": "code",
   "execution_count": null,
   "metadata": {},
   "outputs": [],
   "source": [
    "arr14 = np.array([[1,-2,1],[0,2,-8],[-4,5,9]]) #多元一次方程\n",
    "vector = np.array([0,8,-9])\n",
    "np.linalg.solve(arr14,vector)"
   ]
  },
  {
   "cell_type": "markdown",
   "metadata": {},
   "source": [
    "## 5）随机数的生成"
   ]
  },
  {
   "cell_type": "code",
   "execution_count": null,
   "metadata": {},
   "outputs": [],
   "source": [
    "#统计学中经常会讲到数据的分布特征，如正态分布、指数分布、卡方分布、二项分布、泊松分布等，下面就讲讲有关分布的随机数生成。\n",
    "#正态分布直方图\n",
    "import matplotlib.pyplot as plt #用于绘图的模块\n",
    "np.random.seed(1234)    #设置随机种子\n",
    "N = 10000   #随机产生的样本量\n",
    "randnorm = np.random.normal(size = N)   #生成正态随机数\n",
    "counts, bins, path = plt.hist(randnorm, bins = 100, normed = True, color = 'blue')  #绘制直方图\n",
    "#以上将直方图的频数和组距存放在counts和bins内。\n",
    "sigma = 1; mu = 0\n",
    "norm_dist = (1/np.sqrt(2*sigma*np.pi))*np.exp(-((bins-mu)**2)/2)    #正态分布密度函数\n",
    "plt.plot(bins,norm_dist,color = 'red') #绘制正态分布密度函数图\n"
   ]
  },
  {
   "cell_type": "code",
   "execution_count": null,
   "metadata": {},
   "outputs": [],
   "source": [
    "#使用二项分布进行赌博\n",
    "\n",
    "#同时抛弃9枚硬币，如果正面朝上少于5枚，则输掉8元，否则就赢8元。如果手中有1000元作为赌资，请问赌博10000次后可能会是什么情况呢？\n",
    "np.random.seed(1234)\n",
    "binomial = np.random.binomial(9,0.5,10000)  #生成二项分布随机数\n",
    "money = np.zeros(10000) #生成10000次赌资的列表\n",
    "money[0] = 1000 #首次赌资为1000元\n",
    "for i in range(1,10000):\n",
    "    if binomial[i]<5:\n",
    "        money[i] = money[i-1] - 8\n",
    "    else:\n",
    "        money[i] = money[i-1] + 8\n",
    "plt.plot(np.arange(10000), money)"
   ]
  },
  {
   "cell_type": "code",
   "execution_count": null,
   "metadata": {},
   "outputs": [],
   "source": [
    "#使用随机整数实现随机游走 .一个醉汉在原始位置上行走10000步后将会在什么地方呢？如果他每走一步是随机的，即下一步可能是1也可能是-1。\n",
    "np.random.seed(1234)    #设定随机种子\n",
    "position = 0    #设置初始位置\n",
    "walk = []   #创建空列表\n",
    "steps = 10000   #假设接下来行走10000步\n",
    "for i in np.arange(steps):\n",
    "    step = 1 if np.random.randint(0,2) else -1  #每一步都是随机的\n",
    "    position = position + step  #对每一步进行累计求和\n",
    "    walk.append(position)   #确定每一步所在的位置\n",
    "plt.plot(np.arange(10000), walk)   #绘制随机游走图"
   ]
  },
  {
   "cell_type": "code",
   "execution_count": null,
   "metadata": {},
   "outputs": [],
   "source": [
    "#上面的代码还可以写成（结合前面所讲的where函数，cumsum函数）：\n",
    "np.random.seed(1234)\n",
    "step = np.where(np.random.randint(0,2,10000)>0,1,-1)\n",
    "position = np.cumsum(step)\n",
    "plt.plot(np.arange(10000), position)"
   ]
  },
  {
   "cell_type": "code",
   "execution_count": null,
   "metadata": {},
   "outputs": [],
   "source": []
  }
 ],
 "metadata": {
  "kernelspec": {
   "display_name": "Python 3",
   "language": "python",
   "name": "python3"
  },
  "language_info": {
   "codemirror_mode": {
    "name": "ipython",
    "version": 3
   },
   "file_extension": ".py",
   "mimetype": "text/x-python",
   "name": "python",
   "nbconvert_exporter": "python",
   "pygments_lexer": "ipython3",
   "version": "3.6.6"
  }
 },
 "nbformat": 4,
 "nbformat_minor": 2
}
