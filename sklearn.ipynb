{
 "cells": [
  {
   "cell_type": "markdown",
   "metadata": {},
   "source": [
    "# Sklearn\n",
    "Classification 分类  \n",
    "Regression 回归  \n",
    "Clustering 非监督分类  \n",
    "Dimensionality reduction 数据降维  \n",
    "Model Selection 模型选择  \n",
    "Preprocessing 数据预处理  \n",
    "https://morvanzhou.github.io/tutorials/machine-learning/sklearn/  \n",
    "个人认为做深度学习，可以不用这个库，功能太少"
   ]
  },
  {
   "cell_type": "markdown",
   "metadata": {},
   "source": [
    "## 通用学习模式"
   ]
  },
  {
   "cell_type": "code",
   "execution_count": 1,
   "metadata": {},
   "outputs": [],
   "source": [
    "from sklearn import datasets\n",
    "from sklearn.model_selection import train_test_split\n",
    "from sklearn.neighbors import KNeighborsClassifier"
   ]
  },
  {
   "cell_type": "code",
   "execution_count": 2,
   "metadata": {},
   "outputs": [
    {
     "name": "stdout",
     "output_type": "stream",
     "text": [
      "观察一下数据集，X 有四个属性，y 有 0，1，2 三类：\n",
      "[[5.1 3.5 1.4 0.2]\n",
      " [4.9 3.  1.4 0.2]]\n",
      "[0 0 0 0 0 0 0 0 0 0 0 0 0 0 0 0 0 0 0 0 0 0 0 0 0 0 0 0 0 0 0 0 0 0 0 0 0\n",
      " 0 0 0 0 0 0 0 0 0 0 0 0 0 1 1 1 1 1 1 1 1 1 1 1 1 1 1 1 1 1 1 1 1 1 1 1 1\n",
      " 1 1 1 1 1 1 1 1 1 1 1 1 1 1 1 1 1 1 1 1 1 1 1 1 1 1 2 2 2 2 2 2 2 2 2 2 2\n",
      " 2 2 2 2 2 2 2 2 2 2 2 2 2 2 2 2 2 2 2 2 2 2 2 2 2 2 2 2 2 2 2 2 2 2 2 2 2\n",
      " 2 2]\n"
     ]
    }
   ],
   "source": [
    "#创建数据库\n",
    "iris = datasets.load_iris()\n",
    "iris_X = iris.data\n",
    "iris_y = iris.target\n",
    "print('观察一下数据集，X 有四个属性，y 有 0，1，2 三类：')\n",
    "print(iris_X[:2, :])\n",
    "print(iris_y)"
   ]
  },
  {
   "cell_type": "code",
   "execution_count": 3,
   "metadata": {},
   "outputs": [
    {
     "name": "stdout",
     "output_type": "stream",
     "text": [
      "可以看到分开后的数据集，顺序也被打乱，这样更有利于学习模型：\n",
      "[0 0 2 1 1 2 1 1 2 1 2 0 2 2 2 2 1 0 1 0 1 1 0 1 0 2 1 1 1 0 1 0 1 0 0 1 2\n",
      " 1 2 0 2 2 2 0 0 2 1 2 2 2 0 2 1 0 2 0 2 0 2 1 1 0 1 2 0 1 2 0 2 2 0 0 2 0\n",
      " 1 1 2 0 0 0 1 0 1 2 1 2 2 2 0 0 1 2 1 1 0 2 1 2 2 1 0 2 0 2 1]\n"
     ]
    }
   ],
   "source": [
    "#把数据集分为训练集和测试集，其中 test_size=0.3，即测试集占总数据的 30%：\n",
    "X_train, X_test, y_train, y_test = train_test_split(iris_X, iris_y, test_size=0.3)\n",
    "print('可以看到分开后的数据集，顺序也被打乱，这样更有利于学习模型：')\n",
    "print(y_train)"
   ]
  },
  {
   "cell_type": "code",
   "execution_count": 4,
   "metadata": {},
   "outputs": [
    {
     "name": "stdout",
     "output_type": "stream",
     "text": [
      "[1 0 1 1 0 0 1 0 2 1 1 2 0 1 2 0 0 0 1 1 0 2 1 2 2 2 0 0 0 0 2 0 2 2 0 1 1\n",
      " 0 1 1 2 1 2 0 2]\n",
      "[1 0 1 1 0 0 1 0 2 1 1 2 0 1 2 0 0 0 1 1 0 2 1 2 2 2 0 0 0 0 2 0 2 2 0 1 1\n",
      " 0 1 1 2 1 1 0 2]\n"
     ]
    }
   ],
   "source": [
    "#建立模型－训练－预测 \n",
    "knn = KNeighborsClassifier()\n",
    "knn.fit(X_train, y_train)\n",
    "print(knn.predict(X_test))\n",
    "print(y_test)"
   ]
  },
  {
   "cell_type": "markdown",
   "metadata": {},
   "source": [
    "## 强大数据库\n",
    "https://scikit-learn.org/stable/modules/classes.html#module-sklearn.datasets"
   ]
  },
  {
   "cell_type": "code",
   "execution_count": 5,
   "metadata": {},
   "outputs": [
    {
     "name": "stdout",
     "output_type": "stream",
     "text": [
      "[30.00821269 25.0298606  30.5702317  28.60814055]\n",
      "[24.  21.6 34.7 33.4]\n"
     ]
    }
   ],
   "source": [
    "#导入模块\n",
    "from __future__ import print_function\n",
    "from sklearn import datasets\n",
    "from sklearn.linear_model import LinearRegression\n",
    "import matplotlib.pyplot as plt\n",
    "#导入数据－训练模型 \n",
    "loaded_data = datasets.load_boston()\n",
    "data_X = loaded_data.data\n",
    "data_y = loaded_data.target\n",
    "#定义模型。\n",
    "model = LinearRegression()\n",
    "model.fit(data_X, data_y)\n",
    "print(model.predict(data_X[:4, :]))\n",
    "print(data_y[:4])"
   ]
  },
  {
   "cell_type": "code",
   "execution_count": 6,
   "metadata": {},
   "outputs": [
    {
     "name": "stdout",
     "output_type": "stream",
     "text": [
      "如果是自己生成数据，按照函数的形式，输入 sample，feature，target 的个数等等。\n",
      "(array([[ 0.07834404, -1.43666713, -0.2624332 , ...,  0.01782302,\n",
      "        -1.11618972,  0.43704184],\n",
      "       [-0.62291722,  1.4000697 , -1.0725511 , ..., -0.10939104,\n",
      "        -1.53441631, -0.01206926],\n",
      "       [ 1.32419198, -0.80095288, -0.64200014, ...,  0.33800334,\n",
      "        -1.22106285,  2.19058467],\n",
      "       ...,\n",
      "       [ 0.47221889,  1.48198331,  0.24504282, ...,  0.9767813 ,\n",
      "         0.66186716, -0.34550045],\n",
      "       [ 0.83316011,  0.3157296 , -0.03931222, ..., -0.61453106,\n",
      "        -0.12585165,  1.34659948],\n",
      "       [-2.31957833,  0.40893814,  0.25325352, ..., -1.05187629,\n",
      "        -1.46506626,  1.2932378 ]]), array([-9.68258190e+01,  3.13210519e+02, -4.85629830e+02, -1.28701523e+02,\n",
      "       -2.69489423e+01,  1.64735043e+01, -1.45924304e+01, -5.28652168e+01,\n",
      "        1.19231655e+02,  9.54349080e+01, -2.76102580e+02, -5.84355363e+01,\n",
      "       -2.56145031e+02,  1.30415129e+02, -1.18092019e+01, -1.53540539e+02,\n",
      "        1.58875746e+02,  2.34155288e+01,  2.53573852e+02, -6.66874934e+00,\n",
      "        1.89862374e+02, -1.30577875e+02, -2.02266183e+02, -1.25264050e+02,\n",
      "       -1.30333461e+02,  7.75372907e+01, -2.03052064e+02,  3.38809458e+02,\n",
      "        8.68702869e+01,  7.02178516e+01, -1.53241684e+02,  1.82660109e+02,\n",
      "        2.01525037e+00, -7.75072065e+01, -2.11250566e+02,  3.93060367e+02,\n",
      "       -9.94760697e+01,  1.93337021e+02,  8.31054798e+01,  1.37819010e+02,\n",
      "       -3.16973399e+01,  6.79677421e+01,  3.40112852e+02,  2.01616376e+02,\n",
      "        7.11478099e+01,  1.82007287e+02,  4.24777208e+01,  1.15627307e+02,\n",
      "       -7.46169480e+01,  4.53236247e+02, -1.03754129e+02, -4.12351484e+02,\n",
      "        3.11643288e+01, -1.36014458e+02,  1.46601073e+02, -3.02855842e+02,\n",
      "        1.36525714e+02,  5.20921603e+02, -4.07678438e+02, -1.08681127e+02,\n",
      "        7.21159409e+01,  3.01211637e+02, -4.42720158e+02, -1.46970675e+02,\n",
      "       -1.23889842e+02, -5.81272416e+01, -1.18995145e+02,  7.62531628e+01,\n",
      "       -3.74457070e+02, -2.47346217e+02, -4.15673587e+02, -3.07012239e+02,\n",
      "       -5.03709135e+01,  2.14590488e+02,  1.69720881e+02,  7.16618709e+01,\n",
      "        5.67565941e+01, -5.07574013e+01, -1.17079661e+02, -2.09216618e+02,\n",
      "       -5.33706861e+02,  3.33002373e+01, -1.23265911e+02,  4.83318548e+01,\n",
      "       -3.12319829e-01, -3.61234022e+02, -2.37710551e+02,  1.95269901e+02,\n",
      "       -1.13855092e+02, -1.06418660e+02, -2.13715552e+02, -4.38372615e+01,\n",
      "        5.17107987e+00,  6.51991139e+01,  2.19852948e+02, -3.99805524e+02,\n",
      "       -4.05668429e+01,  4.07819473e+02, -1.08839129e+02,  1.45825479e+02]))\n"
     ]
    }
   ],
   "source": [
    "print('如果是自己生成数据，按照函数的形式，输入 sample，feature，target 的个数等等。')\n",
    "data = datasets.make_regression(n_samples=100, n_features=100, n_informative=10, n_targets=1, bias=0.0, effective_rank=None, tail_strength=0.5, noise=0.0, shuffle=True, coef=False, random_state=None)\n",
    "print(data)"
   ]
  },
  {
   "cell_type": "markdown",
   "metadata": {},
   "source": [
    "## 常用属性与功能"
   ]
  },
  {
   "cell_type": "code",
   "execution_count": 7,
   "metadata": {},
   "outputs": [],
   "source": [
    "from sklearn import datasets\n",
    "from sklearn.linear_model import LinearRegression\n",
    "\n",
    "loaded_data = datasets.load_boston()\n",
    "data_X = loaded_data.data\n",
    "data_y = loaded_data.target\n",
    "\n",
    "model = LinearRegression()\n"
   ]
  },
  {
   "cell_type": "code",
   "execution_count": 8,
   "metadata": {},
   "outputs": [
    {
     "name": "stdout",
     "output_type": "stream",
     "text": [
      "训练和预测\n",
      "[30.00821269 25.0298606  30.5702317  28.60814055]\n"
     ]
    }
   ],
   "source": [
    "print('训练和预测')\n",
    "model.fit(data_X, data_y)\n",
    "print(model.predict(data_X[:4, :]))"
   ]
  },
  {
   "cell_type": "code",
   "execution_count": 9,
   "metadata": {},
   "outputs": [
    {
     "name": "stdout",
     "output_type": "stream",
     "text": [
      "斜率 [-1.07170557e-01  4.63952195e-02  2.08602395e-02  2.68856140e+00\n",
      " -1.77957587e+01  3.80475246e+00  7.51061703e-04 -1.47575880e+00\n",
      "  3.05655038e-01 -1.23293463e-02 -9.53463555e-01  9.39251272e-03\n",
      " -5.25466633e-01]\n",
      "截距 36.49110328036103\n",
      "之前定义的参数 {'copy_X': True, 'fit_intercept': True, 'n_jobs': 1, 'normalize': False}\n",
      "用 R^2 的方式进行打分 0.7406077428649428\n"
     ]
    }
   ],
   "source": [
    "print('斜率', model.coef_)\n",
    "print('截距', model.intercept_)\n",
    "print('之前定义的参数', model.get_params())\n",
    "print('用 R^2 的方式进行打分', model.score(data_X, data_y))"
   ]
  },
  {
   "cell_type": "markdown",
   "metadata": {},
   "source": [
    "## 正规化 Normalization\n"
   ]
  },
  {
   "cell_type": "code",
   "execution_count": 10,
   "metadata": {},
   "outputs": [
    {
     "name": "stdout",
     "output_type": "stream",
     "text": [
      "[[ 0.         -0.85170713 -0.55138018]\n",
      " [-1.22474487 -0.55187146 -0.852133  ]\n",
      " [ 1.22474487  1.40357859  1.40351318]]\n"
     ]
    }
   ],
   "source": [
    "from sklearn import preprocessing #标准化数据模块\n",
    "import numpy as np\n",
    "\n",
    "#建立Array\n",
    "a = np.array([[10, 2.7, 3.6],\n",
    "              [-100, 5, -2],\n",
    "              [120, 20, 40]], dtype=np.float64)\n",
    "\n",
    "#将normalized后的a打印出\n",
    "print(preprocessing.scale(a))"
   ]
  },
  {
   "cell_type": "code",
   "execution_count": 11,
   "metadata": {},
   "outputs": [],
   "source": [
    "# 标准化数据模块\n",
    "from sklearn import preprocessing \n",
    "import numpy as np\n",
    "\n",
    "# 将资料分割成train与test的模块\n",
    "from sklearn.model_selection import train_test_split\n",
    "\n",
    "# 生成适合做classification资料的模块\n",
    "from sklearn.datasets.samples_generator import make_classification \n",
    "\n",
    "# Support Vector Machine中的Support Vector Classifier\n",
    "from sklearn.svm import SVC \n",
    "\n",
    "# 可视化数据的模块\n",
    "import matplotlib.pyplot as plt "
   ]
  },
  {
   "cell_type": "code",
   "execution_count": 12,
   "metadata": {},
   "outputs": [
    {
     "data": {
      "image/png": "[encoded data removed]",
      "text/plain": [
       "<Figure size 432x288 with 1 Axes>"
      ]
     },
     "metadata": {
      "needs_background": "light"
     },
     "output_type": "display_data"
    }
   ],
   "source": [
    "#生成具有2种属性的300笔数据\n",
    "X, y = make_classification(\n",
    "    n_samples=300, n_features=2,\n",
    "    n_redundant=0, n_informative=2, \n",
    "    random_state=22, n_clusters_per_class=1, \n",
    "    scale=100)\n",
    "\n",
    "#可视化数据\n",
    "plt.scatter(X[:, 0], X[:, 1], c=y)\n",
    "plt.show()"
   ]
  },
  {
   "cell_type": "code",
   "execution_count": 13,
   "metadata": {},
   "outputs": [
    {
     "name": "stdout",
     "output_type": "stream",
     "text": [
      "0.5111111111111111\n"
     ]
    }
   ],
   "source": [
    "X_train, X_test, y_train, y_test = train_test_split(X, y, test_size=0.3)\n",
    "clf = SVC()\n",
    "clf.fit(X_train, y_train)\n",
    "print(clf.score(X_test, y_test))"
   ]
  },
  {
   "cell_type": "code",
   "execution_count": 14,
   "metadata": {},
   "outputs": [
    {
     "data": {
      "image/png": "[encoded data removed]",
      "text/plain": [
       "<Figure size 432x288 with 1 Axes>"
      ]
     },
     "metadata": {
      "needs_background": "light"
     },
     "output_type": "display_data"
    },
    {
     "name": "stdout",
     "output_type": "stream",
     "text": [
      "0.9111111111111111\n"
     ]
    }
   ],
   "source": [
    "X = preprocessing.scale(X)\n",
    "#可视化数据\n",
    "plt.scatter(X[:, 0], X[:, 1], c=y)\n",
    "plt.show()\n",
    "X_train, X_test, y_train, y_test = train_test_split(X, y, test_size=0.3)\n",
    "clf = SVC()\n",
    "clf.fit(X_train, y_train)\n",
    "print(clf.score(X_test, y_test))"
   ]
  },
  {
   "cell_type": "code",
   "execution_count": null,
   "metadata": {},
   "outputs": [],
   "source": []
  }
 ],
 "metadata": {
  "kernelspec": {
   "display_name": "Python 3",
   "language": "python",
   "name": "python3"
  },
  "language_info": {
   "codemirror_mode": {
    "name": "ipython",
    "version": 3
   },
   "file_extension": ".py",
   "mimetype": "text/x-python",
   "name": "python",
   "nbconvert_exporter": "python",
   "pygments_lexer": "ipython3",
   "version": "3.6.6"
  }
 },
 "nbformat": 4,
 "nbformat_minor": 2
}
