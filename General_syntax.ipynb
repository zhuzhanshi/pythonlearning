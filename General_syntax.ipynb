{
 "cells": [
  {
   "cell_type": "markdown",
   "metadata": {},
   "source": [
    "## 分支"
   ]
  },
  {
   "cell_type": "code",
   "execution_count": 1,
   "metadata": {},
   "outputs": [
    {
     "name": "stdout",
     "output_type": "stream",
     "text": [
      "输入一个整数50\n",
      "C\n"
     ]
    }
   ],
   "source": [
    "score = int(input('输入一个整数'))\n",
    "if 100>=score>=85:\n",
    "    print('A')\n",
    "elif 85>score>=60:\n",
    "    print('B')\n",
    "elif score<60:\n",
    "    print('C')"
   ]
  },
  {
   "cell_type": "code",
   "execution_count": 2,
   "metadata": {},
   "outputs": [
    {
     "name": "stdout",
     "output_type": "stream",
     "text": [
      "输入一个整数88\n",
      "A\n"
     ]
    }
   ],
   "source": [
    "score = int(input('输入一个整数'))\n",
    "if 100>=score>=85:\n",
    "    print('A')\n",
    "else: \n",
    "    print('A-')"
   ]
  },
  {
   "cell_type": "markdown",
   "metadata": {},
   "source": [
    "## 断言"
   ]
  },
  {
   "cell_type": "code",
   "execution_count": 3,
   "metadata": {},
   "outputs": [],
   "source": [
    "assert 3<4"
   ]
  },
  {
   "cell_type": "code",
   "execution_count": 5,
   "metadata": {},
   "outputs": [
    {
     "ename": "AssertionError",
     "evalue": "2不等于1",
     "output_type": "error",
     "traceback": [
      "\u001b[0;31m---------------------------------------------------------------------------\u001b[0m",
      "\u001b[0;31mAssertionError\u001b[0m                            Traceback (most recent call last)",
      "\u001b[0;32m<ipython-input-5-63c975ef2764>\u001b[0m in \u001b[0;36m<module>\u001b[0;34m()\u001b[0m\n\u001b[0;32m----> 1\u001b[0;31m \u001b[0;32massert\u001b[0m \u001b[0;36m2\u001b[0m\u001b[0;34m==\u001b[0m\u001b[0;36m1\u001b[0m\u001b[0;34m,\u001b[0m\u001b[0;34m'2不等于1'\u001b[0m\u001b[0;34m\u001b[0m\u001b[0m\n\u001b[0m",
      "\u001b[0;31mAssertionError\u001b[0m: 2不等于1"
     ]
    }
   ],
   "source": [
    "assert 2==1,'2不等于1'"
   ]
  },
  {
   "cell_type": "markdown",
   "metadata": {},
   "source": [
    "## 循环"
   ]
  },
  {
   "cell_type": "code",
   "execution_count": 6,
   "metadata": {},
   "outputs": [
    {
     "name": "stdout",
     "output_type": "stream",
     "text": [
      "3\n",
      "4\n"
     ]
    }
   ],
   "source": [
    "i = 3\n",
    "while i<5:\n",
    "    print(i)\n",
    "    i = i + 1\n"
   ]
  },
  {
   "cell_type": "code",
   "execution_count": 7,
   "metadata": {},
   "outputs": [
    {
     "name": "stdout",
     "output_type": "stream",
     "text": [
      "1\n",
      "2\n",
      "3\n"
     ]
    }
   ],
   "source": [
    "member = ['1', '2', '3']\n",
    "for item in member:\n",
    "    print(item)"
   ]
  },
  {
   "cell_type": "markdown",
   "metadata": {},
   "source": [
    "## range\n",
    "range(start, stop, step) 默认step=1 \n",
    "\n"
   ]
  },
  {
   "cell_type": "code",
   "execution_count": 8,
   "metadata": {},
   "outputs": [
    {
     "data": {
      "text/plain": [
       "[0, 1, 2, 3, 4]"
      ]
     },
     "execution_count": 8,
     "metadata": {},
     "output_type": "execute_result"
    }
   ],
   "source": [
    "list(range(5))"
   ]
  },
  {
   "cell_type": "code",
   "execution_count": 9,
   "metadata": {},
   "outputs": [
    {
     "name": "stdout",
     "output_type": "stream",
     "text": [
      "2\n",
      "3\n",
      "4\n",
      "5\n",
      "6\n"
     ]
    }
   ],
   "source": [
    "for i in range(2, 7): \n",
    "    print(i)"
   ]
  },
  {
   "cell_type": "code",
   "execution_count": 10,
   "metadata": {},
   "outputs": [
    {
     "name": "stdout",
     "output_type": "stream",
     "text": [
      "1\n",
      "5\n",
      "9\n"
     ]
    }
   ],
   "source": [
    "for i in range(1, 10, 4):  \n",
    "    print(i)"
   ]
  },
  {
   "cell_type": "markdown",
   "metadata": {},
   "source": [
    "## break continue"
   ]
  },
  {
   "cell_type": "code",
   "execution_count": 11,
   "metadata": {},
   "outputs": [
    {
     "name": "stdout",
     "output_type": "stream",
     "text": [
      "3\n",
      "4\n",
      "5\n",
      "6\n",
      "7\n"
     ]
    }
   ],
   "source": [
    "i = 3\n",
    "while True:\n",
    "    if i>7:\n",
    "        break\n",
    "    print(i)\n",
    "    i = i + 1"
   ]
  },
  {
   "cell_type": "code",
   "execution_count": 12,
   "metadata": {},
   "outputs": [
    {
     "name": "stdout",
     "output_type": "stream",
     "text": [
      "2\n",
      "1\n",
      "4\n",
      "3\n",
      "6\n",
      "5\n",
      "8\n",
      "7\n",
      "10\n",
      "9\n"
     ]
    }
   ],
   "source": [
    "for i in range(10):\n",
    "    if i%2 != 0:\n",
    "        print(i)\n",
    "        continue\n",
    "    i += 2\n",
    "    print(i)\n",
    "        \n",
    "        "
   ]
  },
  {
   "cell_type": "markdown",
   "metadata": {},
   "source": [
    "## list 循环"
   ]
  },
  {
   "cell_type": "code",
   "execution_count": 13,
   "metadata": {},
   "outputs": [
    {
     "name": "stdout",
     "output_type": "stream",
     "text": [
      "4\n",
      "遍历列表方法1：\n",
      "序号：1   值：a\n",
      "序号：2   值：b\n",
      "序号：3   值：c\n",
      "序号：4   值：d\n",
      "\n",
      "遍历列表方法2：\n",
      "序号：1   值：a\n",
      "序号：2   值：b\n",
      "序号：3   值：c\n",
      "序号：4   值：d\n",
      "\n",
      "遍历列表方法3：\n",
      "序号：1   值：a\n",
      "序号：2   值：b\n",
      "序号：3   值：c\n",
      "序号：4   值：d\n"
     ]
    }
   ],
   "source": [
    "li = ['a', 'b', 'c', 'd']\n",
    "print(len(li))\n",
    "# 方法1\n",
    "print('遍历列表方法1：')\n",
    "for i in li:\n",
    "    print(\"序号：%s   值：%s\" % (li.index(i) + 1, i))\n",
    "# 方法2\n",
    "print('\\n遍历列表方法2：')\n",
    "for i in range(len(li)):\n",
    "    print(\"序号：%s   值：%s\" % (i + 1, li[i]))\n",
    "# 方法3\n",
    "print('\\n遍历列表方法3：')\n",
    "for i, val in enumerate(li):\n",
    "    print(\"序号：%s   值：%s\" % (i + 1, val))"
   ]
  },
  {
   "cell_type": "markdown",
   "metadata": {},
   "source": [
    "## dictionary 循环"
   ]
  },
  {
   "cell_type": "code",
   "execution_count": 14,
   "metadata": {},
   "outputs": [
    {
     "name": "stdout",
     "output_type": "stream",
     "text": [
      "{'list': [1, 2, 3], 1: 123, '111': 'python3', 'tuple': (4, 5, 6)}\n"
     ]
    }
   ],
   "source": [
    "d={'list':[1, 2, 3],1:123,'111':'python3','tuple':(4, 5, 6)}\n",
    "print(d)"
   ]
  },
  {
   "cell_type": "code",
   "execution_count": 15,
   "metadata": {},
   "outputs": [
    {
     "name": "stdout",
     "output_type": "stream",
     "text": [
      "list:[1, 2, 3]\n",
      "1:123\n",
      "111:python3\n",
      "tuple:(4, 5, 6)\n"
     ]
    }
   ],
   "source": [
    "for key in d:\n",
    "    print(str(key)+':'+str(d[key]))"
   ]
  },
  {
   "cell_type": "code",
   "execution_count": 16,
   "metadata": {},
   "outputs": [
    {
     "name": "stdout",
     "output_type": "stream",
     "text": [
      "list\n",
      "1\n",
      "111\n",
      "tuple\n"
     ]
    }
   ],
   "source": [
    "for key in d.keys():\n",
    "    print(key)"
   ]
  },
  {
   "cell_type": "code",
   "execution_count": 17,
   "metadata": {},
   "outputs": [
    {
     "name": "stdout",
     "output_type": "stream",
     "text": [
      "[1, 2, 3]\n",
      "123\n",
      "python3\n",
      "(4, 5, 6)\n"
     ]
    }
   ],
   "source": [
    "for value in d.values():\n",
    "    print (value)"
   ]
  },
  {
   "cell_type": "code",
   "execution_count": 18,
   "metadata": {},
   "outputs": [
    {
     "name": "stdout",
     "output_type": "stream",
     "text": [
      "('list', [1, 2, 3])\n",
      "(1, 123)\n",
      "('111', 'python3')\n",
      "('tuple', (4, 5, 6))\n"
     ]
    }
   ],
   "source": [
    "for item in d.items():\n",
    "    print(item)"
   ]
  },
  {
   "cell_type": "code",
   "execution_count": 19,
   "metadata": {},
   "outputs": [
    {
     "name": "stdout",
     "output_type": "stream",
     "text": [
      "list [1, 2, 3]\n",
      "1 123\n",
      "111 python3\n",
      "tuple (4, 5, 6)\n"
     ]
    }
   ],
   "source": [
    "for key,value in d.items():\n",
    "    print(key,value)"
   ]
  },
  {
   "cell_type": "code",
   "execution_count": 20,
   "metadata": {},
   "outputs": [
    {
     "name": "stdout",
     "output_type": "stream",
     "text": [
      "list [1, 2, 3]\n",
      "1 123\n",
      "111 python3\n",
      "tuple (4, 5, 6)\n"
     ]
    }
   ],
   "source": [
    "for (key,value) in d.items():\n",
    "    print(key,value)"
   ]
  },
  {
   "cell_type": "code",
   "execution_count": null,
   "metadata": {},
   "outputs": [],
   "source": []
  },
  {
   "cell_type": "code",
   "execution_count": null,
   "metadata": {},
   "outputs": [],
   "source": []
  },
  {
   "cell_type": "code",
   "execution_count": null,
   "metadata": {},
   "outputs": [],
   "source": []
  },
  {
   "cell_type": "code",
   "execution_count": null,
   "metadata": {},
   "outputs": [],
   "source": []
  }
 ],
 "metadata": {
  "kernelspec": {
   "display_name": "Python 3",
   "language": "python",
   "name": "python3"
  },
  "language_info": {
   "codemirror_mode": {
    "name": "ipython",
    "version": 3
   },
   "file_extension": ".py",
   "mimetype": "text/x-python",
   "name": "python",
   "nbconvert_exporter": "python",
   "pygments_lexer": "ipython3",
   "version": "3.6.6"
  }
 },
 "nbformat": 4,
 "nbformat_minor": 2
}
