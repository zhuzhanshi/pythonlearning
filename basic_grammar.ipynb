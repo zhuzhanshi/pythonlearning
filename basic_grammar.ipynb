{
 "cells": [
  {
   "cell_type": "markdown",
   "metadata": {},
   "source": [
    "# 基础语法\n",
    "\n",
    "变量名  \n",
    "变量类型  \n",
    "注释  \n",
    "文件"
   ]
  },
  {
   "cell_type": "markdown",
   "metadata": {},
   "source": [
    "## 1.变量名:\n",
    "可以包括英文、数字以及下划线,但不能以数字开头,区分大小写"
   ]
  },
  {
   "cell_type": "markdown",
   "metadata": {},
   "source": [
    "## 2.变量类型:\n",
    "• 数字 Number:整型和浮点型 \n",
    "\n",
    "\n"
   ]
  },
  {
   "cell_type": "code",
   "execution_count": 1,
   "metadata": {},
   "outputs": [
    {
     "name": "stdout",
     "output_type": "stream",
     "text": [
      "a, b\n",
      "1 0.1\n"
     ]
    }
   ],
   "source": [
    "a = 1 \n",
    "b = .1\n",
    "print('a, b')\n",
    "print(a,b)"
   ]
  },
  {
   "cell_type": "markdown",
   "metadata": {},
   "source": [
    "• 字符串 String(' '):字符串拼接、长度、切片（‘ ’+‘ ’，len（）,a[:])\n"
   ]
  },
  {
   "cell_type": "code",
   "execution_count": 2,
   "metadata": {
    "scrolled": true
   },
   "outputs": [
    {
     "name": "stdout",
     "output_type": "stream",
     "text": [
      "c:str1str2\n",
      "length:8\n",
      "part:r1str2\n"
     ]
    }
   ],
   "source": [
    "a = 'str1'\n",
    "b = 'str2'\n",
    "c = a + b\n",
    "print(\"c:\" + c)\n",
    "length = len(c)\n",
    "print('length:' + str(length))\n",
    "part = c[2:8]\n",
    "print('part:' + part)"
   ]
  },
  {
   "cell_type": "markdown",
   "metadata": {},
   "source": [
    "• 列表 List([ ]):添加元素、求长、切片、删除(a.append()，len（），a[:], del a[i])"
   ]
  },
  {
   "cell_type": "code",
   "execution_count": 3,
   "metadata": {},
   "outputs": [
    {
     "name": "stdout",
     "output_type": "stream",
     "text": [
      "[]\n",
      "['a']\n",
      "['a', 'b']\n",
      "2\n",
      "['a']\n",
      "['b']\n"
     ]
    }
   ],
   "source": [
    "st = []\n",
    "print(st)\n",
    "st.append('a')\n",
    "print(st)\n",
    "st.append('b')\n",
    "print(st)\n",
    "print(len(st))\n",
    "print(st[0:1])\n",
    "del st[0]\n",
    "print(st)\n"
   ]
  },
  {
   "cell_type": "markdown",
   "metadata": {},
   "source": [
    "\n",
    "• 元组 Tuple(( )):readonly 删除 拼接\n"
   ]
  },
  {
   "cell_type": "code",
   "execution_count": 4,
   "metadata": {},
   "outputs": [
    {
     "name": "stdout",
     "output_type": "stream",
     "text": [
      "('good', 'map')\n",
      "('beter', 'well', 'best')\n",
      "('good', 'map', 'beter', 'well', 'best')\n"
     ]
    },
    {
     "ename": "NameError",
     "evalue": "name 'st3' is not defined",
     "output_type": "error",
     "traceback": [
      "\u001b[0;31m---------------------------------------------------------------------------\u001b[0m",
      "\u001b[0;31mNameError\u001b[0m                                 Traceback (most recent call last)",
      "\u001b[0;32m<ipython-input-4-46216d9332e6>\u001b[0m in \u001b[0;36m<module>\u001b[0;34m()\u001b[0m\n\u001b[1;32m      6\u001b[0m \u001b[0mprint\u001b[0m\u001b[0;34m(\u001b[0m\u001b[0mst3\u001b[0m\u001b[0;34m)\u001b[0m\u001b[0;34m\u001b[0m\u001b[0m\n\u001b[1;32m      7\u001b[0m \u001b[0;32mdel\u001b[0m \u001b[0mst3\u001b[0m\u001b[0;34m\u001b[0m\u001b[0m\n\u001b[0;32m----> 8\u001b[0;31m \u001b[0mprint\u001b[0m\u001b[0;34m(\u001b[0m\u001b[0mst3\u001b[0m\u001b[0;34m)\u001b[0m\u001b[0;34m\u001b[0m\u001b[0m\n\u001b[0m",
      "\u001b[0;31mNameError\u001b[0m: name 'st3' is not defined"
     ]
    }
   ],
   "source": [
    "st1 = ('good','map')\n",
    "print(st1)\n",
    "st2 = ('beter','well','best')\n",
    "print(st2)\n",
    "st3 = st1 + st2\n",
    "print(st3)\n",
    "del st3\n",
    "print(st3)"
   ]
  },
  {
   "cell_type": "markdown",
   "metadata": {},
   "source": [
    "• 字典 Dictionary{key:value, }:赋值、判断是否存在某个 key"
   ]
  },
  {
   "cell_type": "code",
   "execution_count": 5,
   "metadata": {},
   "outputs": [
    {
     "name": "stdout",
     "output_type": "stream",
     "text": [
      "{}\n",
      "{'no1': 'first'}\n",
      "{'no1': 'first--'}\n",
      "{'no1': 'first--', 'no2': 'second'}\n"
     ]
    },
    {
     "data": {
      "text/plain": [
       "False"
      ]
     },
     "execution_count": 5,
     "metadata": {},
     "output_type": "execute_result"
    }
   ],
   "source": [
    "dic = {}\n",
    "print(dic)\n",
    "dic['no1'] = 'first'\n",
    "print(dic)\n",
    "dic['no1'] = 'first--'\n",
    "print(dic)\n",
    "dic['no2'] = 'second'\n",
    "print(dic)\n",
    "'first' in dic"
   ]
  },
  {
   "cell_type": "markdown",
   "metadata": {},
   "source": [
    "## 3.注释 \n",
    "#,三引号"
   ]
  },
  {
   "cell_type": "code",
   "execution_count": 6,
   "metadata": {},
   "outputs": [
    {
     "name": "stdout",
     "output_type": "stream",
     "text": [
      "{}\n",
      "{}\n",
      "{'no2': 'second'}\n"
     ]
    },
    {
     "data": {
      "text/plain": [
       "False"
      ]
     },
     "execution_count": 6,
     "metadata": {},
     "output_type": "execute_result"
    }
   ],
   "source": [
    "dic = {}\n",
    "print(dic)\n",
    "\n",
    "#dic['no1'] = 'first'\n",
    "print(dic)\n",
    "'''\n",
    "dic['no1'] = 'first--'\n",
    "print(dic)\n",
    "'''\n",
    "\n",
    "dic['no2'] = 'second'\n",
    "print(dic)\n",
    "'first' in dic"
   ]
  },
  {
   "cell_type": "markdown",
   "metadata": {},
   "source": [
    "## 文件\n",
    "{\n",
    "\n",
    "读写文件 open\n",
    "\n",
    "f = open('filename','r') # 读模式\n",
    "\n",
    "f = open('filename','w') # 写模式\n",
    "\n",
    "读取内容方式\n",
    "\n",
    "f.read() # 一次读取整个文件，文件大不适用\n",
    "\n",
    "f.readline() # 一次只读取一行，占内存小，速度慢\n",
    "    \n",
    "f.readlines() # 一次性读取，将内容分析成一个行的列表，可以由for...in...处理\n",
    "    \n",
    "写文件方式\n",
    "\n",
    "f.write(content) # 不会换行哦\n",
    "\n",
    "f.writeline(content) # 下次会写在下一行\n",
    "    \n",
    "close\n",
    "\n",
    "f.close()\n",
    "\n",
    "}"
   ]
  },
  {
   "cell_type": "code",
   "execution_count": null,
   "metadata": {},
   "outputs": [],
   "source": []
  }
 ],
 "metadata": {
  "kernelspec": {
   "display_name": "Python 3",
   "language": "python",
   "name": "python3"
  },
  "language_info": {
   "codemirror_mode": {
    "name": "ipython",
    "version": 3
   },
   "file_extension": ".py",
   "mimetype": "text/x-python",
   "name": "python",
   "nbconvert_exporter": "python",
   "pygments_lexer": "ipython3",
   "version": "3.6.6"
  }
 },
 "nbformat": 4,
 "nbformat_minor": 2
}
